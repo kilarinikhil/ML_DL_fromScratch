{
 "cells": [
  {
   "cell_type": "markdown",
   "metadata": {},
   "source": [
    "# Linear Regression using Tensorflow\n",
    "\n",
    "- Level  : Beginner\n",
    "- Author : Kilari Nikhil \n",
    "- Project: "
   ]
  },
  {
   "cell_type": "code",
   "execution_count": 12,
   "metadata": {},
   "outputs": [],
   "source": [
    "#Dependencies\n",
    "import tensorflow as tf\n",
    "import numpy as np\n",
    "import matplotlib.pyplot as plt"
   ]
  },
  {
   "cell_type": "code",
   "execution_count": 13,
   "metadata": {},
   "outputs": [],
   "source": [
    "# Training Data\n",
    "train_X = np.asarray([3.3,4.4,5.5,6.71,6.93,4.168,9.779,6.182,7.59,2.167,7.042,10.791,5.313,7.997,5.654,9.27,3.1])\n",
    "train_Y = np.asarray([1.7,2.76,2.09,3.19,1.694,1.573,3.366,2.596,2.53,1.221,2.827,3.465,1.65,2.904,2.42,2.94,1.3])"
   ]
  },
  {
   "cell_type": "code",
   "execution_count": 14,
   "metadata": {},
   "outputs": [],
   "source": [
    "#Hyperparameters\n",
    "n_size = len(train_X)\n",
    "learning_rate = 0.01\n",
    "epochs = 100\n",
    "display_step = 10 #prints output after specified epochs"
   ]
  },
  {
   "cell_type": "code",
   "execution_count": 15,
   "metadata": {
    "scrolled": false
   },
   "outputs": [
    {
     "name": "stdout",
     "output_type": "stream",
     "text": [
      "Epoch :  10 Cost =  0.50420046\n",
      "Epoch :  20 Cost =  0.48728123\n",
      "Epoch :  30 Cost =  0.4711885\n",
      "Epoch :  40 Cost =  0.45587334\n",
      "Epoch :  50 Cost =  0.44129813\n",
      "Epoch :  60 Cost =  0.42742717\n",
      "Epoch :  70 Cost =  0.41422653\n",
      "Epoch :  80 Cost =  0.40166357\n",
      "Epoch :  90 Cost =  0.38970783\n",
      "Epoch :  100 Cost =  0.37832984\n",
      "Optimization finished\n",
      "Training cost =  0.37832984 W =  0.43197164 b =  -0.5394543\n"
     ]
    },
    {
     "data": {
      "image/png": "[encoded data removed]",
      "text/plain": [
       "<Figure size 432x288 with 1 Axes>"
      ]
     },
     "metadata": {
      "needs_background": "light"
     },
     "output_type": "display_data"
    }
   ],
   "source": [
    "#Creating a graph\n",
    "X = tf.placeholder(float)\n",
    "Y = tf.placeholder(float)\n",
    "W = tf.Variable(np.random.normal(),name = 'weight')\n",
    "b = tf.Variable(np.random.normal(),name = 'bias')\n",
    "\n",
    "pred = tf.add(tf.multiply(W,X),b)\n",
    "cost = tf.reduce_sum(tf.pow(tf.subtract(pred,Y),2))/n_size\n",
    "optimizer = tf.train.GradientDescentOptimizer(learning_rate).minimize(cost)\n",
    "\n",
    "#initialising variables \n",
    "init = tf.global_variables_initializer()\n",
    "\n",
    "with tf.Session() as sess:\n",
    "\tsess.run(init)\n",
    "\t\n",
    "\tfor epoch in range(epochs):\n",
    "\t\tfor x,y in zip(train_X,train_Y):\n",
    "\t\t\tsess.run(optimizer,feed_dict={X: x, Y: y})\n",
    "\t\t#Displaying cost after certain number of epochs\n",
    "\t\tif ((epoch+1) % display_step) == 0:\n",
    "\t\t\tprint(\"Epoch : \",epoch+1,\"Cost = \",sess.run(cost,feed_dict = {X: train_X, Y: train_Y}))\n",
    "\tprint(\"Optimization finished\")\n",
    "\tfinal_cost = sess.run(cost,feed_dict = {X:train_X,Y:train_Y})\n",
    "\tprint(\"Training cost = \",final_cost,\"W = \",sess.run(W),\"b = \",sess.run(b))\n",
    "\t\n",
    "\t#Display output in a graph using matplotlib\n",
    "\tplt.plot(train_X,train_Y,'b*',label = 'train_points')\n",
    "\tplt.plot(train_X,train_X * sess.run(W) + sess.run(b),label = 'Predicted line')\n",
    "\tplt.show()"
   ]
  },
  {
   "cell_type": "code",
   "execution_count": null,
   "metadata": {},
   "outputs": [],
   "source": []
  }
 ],
 "metadata": {
  "kernelspec": {
   "display_name": "Python 3",
   "language": "python",
   "name": "python3"
  },
  "language_info": {
   "codemirror_mode": {
    "name": "ipython",
    "version": 3
   },
   "file_extension": ".py",
   "mimetype": "text/x-python",
   "name": "python",
   "nbconvert_exporter": "python",
   "pygments_lexer": "ipython3",
   "version": "3.6.9"
  }
 },
 "nbformat": 4,
 "nbformat_minor": 2
}
